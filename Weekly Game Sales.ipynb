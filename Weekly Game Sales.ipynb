{
 "cells": [
  {
   "cell_type": "code",
   "execution_count": 15,
   "id": "a929f936",
   "metadata": {},
   "outputs": [],
   "source": [
    "import numpy as np\n",
    "import pandas as pd"
   ]
  },
  {
   "cell_type": "code",
   "execution_count": 10,
   "id": "15cc64ed",
   "metadata": {},
   "outputs": [],
   "source": [
    "np.random.seed(1)\n",
    "sales=np.random.randint(70,size=(5,4))"
   ]
  },
  {
   "cell_type": "code",
   "execution_count": 11,
   "id": "1deabca4",
   "metadata": {},
   "outputs": [
    {
     "data": {
      "text/plain": [
       "array([[37, 12,  9,  5],\n",
       "       [64, 16,  1,  6],\n",
       "       [25, 50, 20, 18],\n",
       "       [11, 28, 29, 14],\n",
       "       [50, 68, 13,  9]])"
      ]
     },
     "execution_count": 11,
     "metadata": {},
     "output_type": "execute_result"
    }
   ],
   "source": [
    "sales"
   ]
  },
  {
   "cell_type": "code",
   "execution_count": 18,
   "id": "cc5bf3a9",
   "metadata": {},
   "outputs": [],
   "source": [
    "Weekly_Game_Sales = pd.DataFrame(sales,index=[\"Mon\",\"Tue\",\"Wed\",\"Thurs\",\"Fri\"],\n",
    "                                columns=[\"Horiz\",\"GOW\",\"Ark\",\"Spi\"])"
   ]
  },
  {
   "cell_type": "code",
   "execution_count": 19,
   "id": "3b3ce44c",
   "metadata": {},
   "outputs": [
    {
     "data": {
      "text/html": [
       "<div>\n",
       "<style scoped>\n",
       "    .dataframe tbody tr th:only-of-type {\n",
       "        vertical-align: middle;\n",
       "    }\n",
       "\n",
       "    .dataframe tbody tr th {\n",
       "        vertical-align: top;\n",
       "    }\n",
       "\n",
       "    .dataframe thead th {\n",
       "        text-align: right;\n",
       "    }\n",
       "</style>\n",
       "<table border=\"1\" class=\"dataframe\">\n",
       "  <thead>\n",
       "    <tr style=\"text-align: right;\">\n",
       "      <th></th>\n",
       "      <th>Horiz</th>\n",
       "      <th>GOW</th>\n",
       "      <th>Ark</th>\n",
       "      <th>Spi</th>\n",
       "    </tr>\n",
       "  </thead>\n",
       "  <tbody>\n",
       "    <tr>\n",
       "      <th>Mon</th>\n",
       "      <td>37</td>\n",
       "      <td>12</td>\n",
       "      <td>9</td>\n",
       "      <td>5</td>\n",
       "    </tr>\n",
       "    <tr>\n",
       "      <th>Tue</th>\n",
       "      <td>64</td>\n",
       "      <td>16</td>\n",
       "      <td>1</td>\n",
       "      <td>6</td>\n",
       "    </tr>\n",
       "    <tr>\n",
       "      <th>Wed</th>\n",
       "      <td>25</td>\n",
       "      <td>50</td>\n",
       "      <td>20</td>\n",
       "      <td>18</td>\n",
       "    </tr>\n",
       "    <tr>\n",
       "      <th>Thurs</th>\n",
       "      <td>11</td>\n",
       "      <td>28</td>\n",
       "      <td>29</td>\n",
       "      <td>14</td>\n",
       "    </tr>\n",
       "    <tr>\n",
       "      <th>Fri</th>\n",
       "      <td>50</td>\n",
       "      <td>68</td>\n",
       "      <td>13</td>\n",
       "      <td>9</td>\n",
       "    </tr>\n",
       "  </tbody>\n",
       "</table>\n",
       "</div>"
      ],
      "text/plain": [
       "       Horiz  GOW  Ark  Spi\n",
       "Mon       37   12    9    5\n",
       "Tue       64   16    1    6\n",
       "Wed       25   50   20   18\n",
       "Thurs     11   28   29   14\n",
       "Fri       50   68   13    9"
      ]
     },
     "execution_count": 19,
     "metadata": {},
     "output_type": "execute_result"
    }
   ],
   "source": [
    "Weekly_Game_Sales\n"
   ]
  },
  {
   "cell_type": "code",
   "execution_count": 37,
   "id": "1394d330",
   "metadata": {},
   "outputs": [],
   "source": [
    "np.random.seed(5)\n",
    "pricesf=np.random.randint(70,size=(4,1))"
   ]
  },
  {
   "cell_type": "code",
   "execution_count": 38,
   "id": "489c85a2",
   "metadata": {},
   "outputs": [
    {
     "data": {
      "text/plain": [
       "array([[61],\n",
       "       [16],\n",
       "       [ 8],\n",
       "       [62]])"
      ]
     },
     "execution_count": 38,
     "metadata": {},
     "output_type": "execute_result"
    }
   ],
   "source": [
    "pricesf"
   ]
  },
  {
   "cell_type": "code",
   "execution_count": 33,
   "id": "4defe4b7",
   "metadata": {},
   "outputs": [],
   "source": [
    "Prices = pd.DataFrame(prices,index=[\"Horiz\",\"GOW\",\"Ark\",\"Spi\"],columns=[\"Sales\"])\n",
    "                                "
   ]
  },
  {
   "cell_type": "code",
   "execution_count": 35,
   "id": "bb86bc37",
   "metadata": {},
   "outputs": [
    {
     "data": {
      "text/html": [
       "<div>\n",
       "<style scoped>\n",
       "    .dataframe tbody tr th:only-of-type {\n",
       "        vertical-align: middle;\n",
       "    }\n",
       "\n",
       "    .dataframe tbody tr th {\n",
       "        vertical-align: top;\n",
       "    }\n",
       "\n",
       "    .dataframe thead th {\n",
       "        text-align: right;\n",
       "    }\n",
       "</style>\n",
       "<table border=\"1\" class=\"dataframe\">\n",
       "  <thead>\n",
       "    <tr style=\"text-align: right;\">\n",
       "      <th></th>\n",
       "      <th>Horiz</th>\n",
       "      <th>GOW</th>\n",
       "      <th>Ark</th>\n",
       "      <th>Spi</th>\n",
       "    </tr>\n",
       "  </thead>\n",
       "  <tbody>\n",
       "    <tr>\n",
       "      <th>Mon</th>\n",
       "      <td>37</td>\n",
       "      <td>12</td>\n",
       "      <td>9</td>\n",
       "      <td>5</td>\n",
       "    </tr>\n",
       "    <tr>\n",
       "      <th>Tue</th>\n",
       "      <td>64</td>\n",
       "      <td>16</td>\n",
       "      <td>1</td>\n",
       "      <td>6</td>\n",
       "    </tr>\n",
       "    <tr>\n",
       "      <th>Wed</th>\n",
       "      <td>25</td>\n",
       "      <td>50</td>\n",
       "      <td>20</td>\n",
       "      <td>18</td>\n",
       "    </tr>\n",
       "    <tr>\n",
       "      <th>Thurs</th>\n",
       "      <td>11</td>\n",
       "      <td>28</td>\n",
       "      <td>29</td>\n",
       "      <td>14</td>\n",
       "    </tr>\n",
       "    <tr>\n",
       "      <th>Fri</th>\n",
       "      <td>50</td>\n",
       "      <td>68</td>\n",
       "      <td>13</td>\n",
       "      <td>9</td>\n",
       "    </tr>\n",
       "  </tbody>\n",
       "</table>\n",
       "</div>"
      ],
      "text/plain": [
       "       Horiz  GOW  Ark  Spi\n",
       "Mon       37   12    9    5\n",
       "Tue       64   16    1    6\n",
       "Wed       25   50   20   18\n",
       "Thurs     11   28   29   14\n",
       "Fri       50   68   13    9"
      ]
     },
     "execution_count": 35,
     "metadata": {},
     "output_type": "execute_result"
    }
   ],
   "source": [
    "Weekly_Game_Sales"
   ]
  },
  {
   "cell_type": "code",
   "execution_count": 36,
   "id": "54ec18d9",
   "metadata": {},
   "outputs": [
    {
     "data": {
      "text/html": [
       "<div>\n",
       "<style scoped>\n",
       "    .dataframe tbody tr th:only-of-type {\n",
       "        vertical-align: middle;\n",
       "    }\n",
       "\n",
       "    .dataframe tbody tr th {\n",
       "        vertical-align: top;\n",
       "    }\n",
       "\n",
       "    .dataframe thead th {\n",
       "        text-align: right;\n",
       "    }\n",
       "</style>\n",
       "<table border=\"1\" class=\"dataframe\">\n",
       "  <thead>\n",
       "    <tr style=\"text-align: right;\">\n",
       "      <th></th>\n",
       "      <th>Sales</th>\n",
       "    </tr>\n",
       "  </thead>\n",
       "  <tbody>\n",
       "    <tr>\n",
       "      <th>Horiz</th>\n",
       "      <td>61</td>\n",
       "    </tr>\n",
       "    <tr>\n",
       "      <th>GOW</th>\n",
       "      <td>16</td>\n",
       "    </tr>\n",
       "    <tr>\n",
       "      <th>Ark</th>\n",
       "      <td>8</td>\n",
       "    </tr>\n",
       "    <tr>\n",
       "      <th>Spi</th>\n",
       "      <td>62</td>\n",
       "    </tr>\n",
       "  </tbody>\n",
       "</table>\n",
       "</div>"
      ],
      "text/plain": [
       "       Sales\n",
       "Horiz     61\n",
       "GOW       16\n",
       "Ark        8\n",
       "Spi       62"
      ]
     },
     "execution_count": 36,
     "metadata": {},
     "output_type": "execute_result"
    }
   ],
   "source": [
    "Prices"
   ]
  },
  {
   "cell_type": "code",
   "execution_count": 43,
   "id": "97522887",
   "metadata": {},
   "outputs": [],
   "source": [
    "Total_Sales=np.dot(pricesf.T,sales.T)"
   ]
  },
  {
   "cell_type": "code",
   "execution_count": 44,
   "id": "27d5c0c9",
   "metadata": {},
   "outputs": [
    {
     "data": {
      "text/plain": [
       "array([[2831, 4540, 3601, 2219, 4800]])"
      ]
     },
     "execution_count": 44,
     "metadata": {},
     "output_type": "execute_result"
    }
   ],
   "source": [
    "Total_Sales"
   ]
  },
  {
   "cell_type": "code",
   "execution_count": 52,
   "id": "1010e08e",
   "metadata": {},
   "outputs": [],
   "source": [
    "Weekly_Game_Sales = Total_Sales"
   ]
  },
  {
   "cell_type": "code",
   "execution_count": 53,
   "id": "f96d9d4b",
   "metadata": {},
   "outputs": [
    {
     "data": {
      "text/plain": [
       "array([[2831, 4540, 3601, 2219, 4800]])"
      ]
     },
     "execution_count": 53,
     "metadata": {},
     "output_type": "execute_result"
    }
   ],
   "source": [
    "Weekly_Game_Sales"
   ]
  },
  {
   "cell_type": "code",
   "execution_count": 54,
   "id": "e33efb77",
   "metadata": {},
   "outputs": [],
   "source": [
    "Weekly_Game_Sales = pd.DataFrame(sales,index=[\"Mon\",\"Tue\",\"Wed\",\"Thurs\",\"Fri\"],\n",
    "                                columns=[\"Horiz\",\"GOW\",\"Ark\",\"Spi\"])"
   ]
  },
  {
   "cell_type": "code",
   "execution_count": 55,
   "id": "49579ab2",
   "metadata": {},
   "outputs": [
    {
     "data": {
      "text/html": [
       "<div>\n",
       "<style scoped>\n",
       "    .dataframe tbody tr th:only-of-type {\n",
       "        vertical-align: middle;\n",
       "    }\n",
       "\n",
       "    .dataframe tbody tr th {\n",
       "        vertical-align: top;\n",
       "    }\n",
       "\n",
       "    .dataframe thead th {\n",
       "        text-align: right;\n",
       "    }\n",
       "</style>\n",
       "<table border=\"1\" class=\"dataframe\">\n",
       "  <thead>\n",
       "    <tr style=\"text-align: right;\">\n",
       "      <th></th>\n",
       "      <th>Horiz</th>\n",
       "      <th>GOW</th>\n",
       "      <th>Ark</th>\n",
       "      <th>Spi</th>\n",
       "    </tr>\n",
       "  </thead>\n",
       "  <tbody>\n",
       "    <tr>\n",
       "      <th>Mon</th>\n",
       "      <td>37</td>\n",
       "      <td>12</td>\n",
       "      <td>9</td>\n",
       "      <td>5</td>\n",
       "    </tr>\n",
       "    <tr>\n",
       "      <th>Tue</th>\n",
       "      <td>64</td>\n",
       "      <td>16</td>\n",
       "      <td>1</td>\n",
       "      <td>6</td>\n",
       "    </tr>\n",
       "    <tr>\n",
       "      <th>Wed</th>\n",
       "      <td>25</td>\n",
       "      <td>50</td>\n",
       "      <td>20</td>\n",
       "      <td>18</td>\n",
       "    </tr>\n",
       "    <tr>\n",
       "      <th>Thurs</th>\n",
       "      <td>11</td>\n",
       "      <td>28</td>\n",
       "      <td>29</td>\n",
       "      <td>14</td>\n",
       "    </tr>\n",
       "    <tr>\n",
       "      <th>Fri</th>\n",
       "      <td>50</td>\n",
       "      <td>68</td>\n",
       "      <td>13</td>\n",
       "      <td>9</td>\n",
       "    </tr>\n",
       "  </tbody>\n",
       "</table>\n",
       "</div>"
      ],
      "text/plain": [
       "       Horiz  GOW  Ark  Spi\n",
       "Mon       37   12    9    5\n",
       "Tue       64   16    1    6\n",
       "Wed       25   50   20   18\n",
       "Thurs     11   28   29   14\n",
       "Fri       50   68   13    9"
      ]
     },
     "execution_count": 55,
     "metadata": {},
     "output_type": "execute_result"
    }
   ],
   "source": [
    "Weekly_Game_Sales"
   ]
  },
  {
   "cell_type": "code",
   "execution_count": 60,
   "id": "ca294df3",
   "metadata": {},
   "outputs": [],
   "source": [
    "Weekly_Game_Sales[\"Total_Profit Per Day\"] = Total_Sales.T"
   ]
  },
  {
   "cell_type": "code",
   "execution_count": 61,
   "id": "3be17482",
   "metadata": {},
   "outputs": [
    {
     "data": {
      "text/html": [
       "<div>\n",
       "<style scoped>\n",
       "    .dataframe tbody tr th:only-of-type {\n",
       "        vertical-align: middle;\n",
       "    }\n",
       "\n",
       "    .dataframe tbody tr th {\n",
       "        vertical-align: top;\n",
       "    }\n",
       "\n",
       "    .dataframe thead th {\n",
       "        text-align: right;\n",
       "    }\n",
       "</style>\n",
       "<table border=\"1\" class=\"dataframe\">\n",
       "  <thead>\n",
       "    <tr style=\"text-align: right;\">\n",
       "      <th></th>\n",
       "      <th>Horiz</th>\n",
       "      <th>GOW</th>\n",
       "      <th>Ark</th>\n",
       "      <th>Spi</th>\n",
       "      <th>Total_Profit</th>\n",
       "      <th>Total_Profit Per Day</th>\n",
       "    </tr>\n",
       "  </thead>\n",
       "  <tbody>\n",
       "    <tr>\n",
       "      <th>Mon</th>\n",
       "      <td>37</td>\n",
       "      <td>12</td>\n",
       "      <td>9</td>\n",
       "      <td>5</td>\n",
       "      <td>2831</td>\n",
       "      <td>2831</td>\n",
       "    </tr>\n",
       "    <tr>\n",
       "      <th>Tue</th>\n",
       "      <td>64</td>\n",
       "      <td>16</td>\n",
       "      <td>1</td>\n",
       "      <td>6</td>\n",
       "      <td>4540</td>\n",
       "      <td>4540</td>\n",
       "    </tr>\n",
       "    <tr>\n",
       "      <th>Wed</th>\n",
       "      <td>25</td>\n",
       "      <td>50</td>\n",
       "      <td>20</td>\n",
       "      <td>18</td>\n",
       "      <td>3601</td>\n",
       "      <td>3601</td>\n",
       "    </tr>\n",
       "    <tr>\n",
       "      <th>Thurs</th>\n",
       "      <td>11</td>\n",
       "      <td>28</td>\n",
       "      <td>29</td>\n",
       "      <td>14</td>\n",
       "      <td>2219</td>\n",
       "      <td>2219</td>\n",
       "    </tr>\n",
       "    <tr>\n",
       "      <th>Fri</th>\n",
       "      <td>50</td>\n",
       "      <td>68</td>\n",
       "      <td>13</td>\n",
       "      <td>9</td>\n",
       "      <td>4800</td>\n",
       "      <td>4800</td>\n",
       "    </tr>\n",
       "  </tbody>\n",
       "</table>\n",
       "</div>"
      ],
      "text/plain": [
       "       Horiz  GOW  Ark  Spi  Total_Profit  Total_Profit Per Day\n",
       "Mon       37   12    9    5          2831                  2831\n",
       "Tue       64   16    1    6          4540                  4540\n",
       "Wed       25   50   20   18          3601                  3601\n",
       "Thurs     11   28   29   14          2219                  2219\n",
       "Fri       50   68   13    9          4800                  4800"
      ]
     },
     "execution_count": 61,
     "metadata": {},
     "output_type": "execute_result"
    }
   ],
   "source": [
    "Weekly_Game_Sales"
   ]
  },
  {
   "cell_type": "code",
   "execution_count": 70,
   "id": "e8059466",
   "metadata": {},
   "outputs": [],
   "source": [
    "Weekly_Game_Sales.drop(\"Total_Profit\",axis=\"columns\",inplace=True)"
   ]
  },
  {
   "cell_type": "code",
   "execution_count": 71,
   "id": "73cfcf30",
   "metadata": {},
   "outputs": [],
   "source": [
    "Weekly_Game_Sales.drop(\"Total_Profit Per Day\",axis=\"columns\",inplace=True)"
   ]
  },
  {
   "cell_type": "code",
   "execution_count": 72,
   "id": "7c3da9ea",
   "metadata": {},
   "outputs": [],
   "source": [
    "Weekly_Game_Sales[\"Total Profit Per Day\"] = Total_Sales.T"
   ]
  },
  {
   "cell_type": "code",
   "execution_count": 73,
   "id": "d1afb6ba",
   "metadata": {},
   "outputs": [
    {
     "data": {
      "text/html": [
       "<div>\n",
       "<style scoped>\n",
       "    .dataframe tbody tr th:only-of-type {\n",
       "        vertical-align: middle;\n",
       "    }\n",
       "\n",
       "    .dataframe tbody tr th {\n",
       "        vertical-align: top;\n",
       "    }\n",
       "\n",
       "    .dataframe thead th {\n",
       "        text-align: right;\n",
       "    }\n",
       "</style>\n",
       "<table border=\"1\" class=\"dataframe\">\n",
       "  <thead>\n",
       "    <tr style=\"text-align: right;\">\n",
       "      <th></th>\n",
       "      <th>Horiz</th>\n",
       "      <th>GOW</th>\n",
       "      <th>Ark</th>\n",
       "      <th>Spi</th>\n",
       "      <th>Total Profit Per Day</th>\n",
       "    </tr>\n",
       "  </thead>\n",
       "  <tbody>\n",
       "    <tr>\n",
       "      <th>Mon</th>\n",
       "      <td>37</td>\n",
       "      <td>12</td>\n",
       "      <td>9</td>\n",
       "      <td>5</td>\n",
       "      <td>2831</td>\n",
       "    </tr>\n",
       "    <tr>\n",
       "      <th>Tue</th>\n",
       "      <td>64</td>\n",
       "      <td>16</td>\n",
       "      <td>1</td>\n",
       "      <td>6</td>\n",
       "      <td>4540</td>\n",
       "    </tr>\n",
       "    <tr>\n",
       "      <th>Wed</th>\n",
       "      <td>25</td>\n",
       "      <td>50</td>\n",
       "      <td>20</td>\n",
       "      <td>18</td>\n",
       "      <td>3601</td>\n",
       "    </tr>\n",
       "    <tr>\n",
       "      <th>Thurs</th>\n",
       "      <td>11</td>\n",
       "      <td>28</td>\n",
       "      <td>29</td>\n",
       "      <td>14</td>\n",
       "      <td>2219</td>\n",
       "    </tr>\n",
       "    <tr>\n",
       "      <th>Fri</th>\n",
       "      <td>50</td>\n",
       "      <td>68</td>\n",
       "      <td>13</td>\n",
       "      <td>9</td>\n",
       "      <td>4800</td>\n",
       "    </tr>\n",
       "  </tbody>\n",
       "</table>\n",
       "</div>"
      ],
      "text/plain": [
       "       Horiz  GOW  Ark  Spi  Total Profit Per Day\n",
       "Mon       37   12    9    5                  2831\n",
       "Tue       64   16    1    6                  4540\n",
       "Wed       25   50   20   18                  3601\n",
       "Thurs     11   28   29   14                  2219\n",
       "Fri       50   68   13    9                  4800"
      ]
     },
     "execution_count": 73,
     "metadata": {},
     "output_type": "execute_result"
    }
   ],
   "source": [
    "Weekly_Game_Sales"
   ]
  },
  {
   "cell_type": "code",
   "execution_count": null,
   "id": "e3b2c774",
   "metadata": {},
   "outputs": [],
   "source": []
  }
 ],
 "metadata": {
  "kernelspec": {
   "display_name": "Python 3 (ipykernel)",
   "language": "python",
   "name": "python3"
  },
  "language_info": {
   "codemirror_mode": {
    "name": "ipython",
    "version": 3
   },
   "file_extension": ".py",
   "mimetype": "text/x-python",
   "name": "python",
   "nbconvert_exporter": "python",
   "pygments_lexer": "ipython3",
   "version": "3.10.4"
  }
 },
 "nbformat": 4,
 "nbformat_minor": 5
}
